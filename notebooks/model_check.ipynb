{
 "cells": [
  {
   "cell_type": "code",
   "execution_count": 1,
   "metadata": {},
   "outputs": [
    {
     "name": "stderr",
     "output_type": "stream",
     "text": [
      "Using TensorFlow backend.\n"
     ]
    },
    {
     "name": "stdout",
     "output_type": "stream",
     "text": [
      "花の名前 :  rose\n"
     ]
    }
   ],
   "source": [
    "# import pandas as pd\n",
    "import random, math\n",
    "import numpy as np\n",
    "\n",
    "from keras.preprocessing.image import load_img, img_to_array\n",
    "from keras.applications.vgg16 import VGG16, preprocess_input\n",
    "from keras.models import Sequential, Model\n",
    "from keras.layers import Input, Dense, Dropout, Activation, Flatten\n",
    "from keras.optimizers import SGD\n",
    "\n",
    "classes = ['chrysanthemum', 'cosmos', 'ginkgo', 'lotus' , 'margaret', 'rose']\n",
    "nb_classes = len(classes)\n",
    "current_dir = \"/notebooks\"\n",
    "img_rows, img_cols = 224, 224\n",
    "\n",
    "def build_model() :\n",
    "    input_tensor = Input(shape=(img_rows, img_cols, 3))\n",
    "    vgg16 = VGG16(include_top=False, weights='imagenet', input_tensor=input_tensor)\n",
    "\n",
    "    _model = Sequential()\n",
    "    \n",
    "    _model.add(Flatten(input_shape=vgg16.output_shape[1:]))\n",
    "    _model.add(Dense(256, activation='relu'))\n",
    "    _model.add(Dropout(0.5))\n",
    "    _model.add(Dense(nb_classes, activation='softmax'))\n",
    "\n",
    "    model = Model(inputs=vgg16.input, outputs=_model(vgg16.output))\n",
    "    # modelの14層目までのモデル重み\n",
    "    for layer in model.layers[:15]:\n",
    "        layer.trainable = False\n",
    "\n",
    "    model.compile(loss='categorical_crossentropy',\n",
    "                  optimizer=SGD(lr=1e-4, momentum=0.9), metrics=['accuracy'])\n",
    "    return model\n",
    "\n",
    "if __name__ == \"__main__\":\n",
    "    model = build_model()\n",
    "    model.load_weights(current_dir + \"/model/flower-model.hdf5\")\n",
    "    \n",
    "    filename = current_dir + \"/check_images/rose.jpg\"\n",
    "\n",
    "    img = load_img(filename, target_size=(img_rows, img_cols))\n",
    "    x = img_to_array(img)\n",
    "    x = np.expand_dims(x, axis=0)\n",
    "\n",
    "    filename = current_dir + \"/check_images/rose.jpg\"\n",
    "    predict = model.predict(preprocess_input(x))\n",
    "\n",
    "    for pre in predict:\n",
    "        y = pre.argmax()\n",
    "        print(\"花の名前 : \", classes[y])\n",
    "\n"
   ]
  },
  {
   "cell_type": "code",
   "execution_count": null,
   "metadata": {},
   "outputs": [],
   "source": []
  }
 ],
 "metadata": {
  "kernelspec": {
   "display_name": "Python 3",
   "language": "python",
   "name": "python3"
  },
  "language_info": {
   "codemirror_mode": {
    "name": "ipython",
    "version": 3
   },
   "file_extension": ".py",
   "mimetype": "text/x-python",
   "name": "python",
   "nbconvert_exporter": "python",
   "pygments_lexer": "ipython3",
   "version": "3.5.2"
  }
 },
 "nbformat": 4,
 "nbformat_minor": 2
}
