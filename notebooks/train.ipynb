{
 "cells": [
  {
   "cell_type": "code",
   "execution_count": 1,
   "metadata": {},
   "outputs": [
    {
     "name": "stderr",
     "output_type": "stream",
     "text": [
      "Using TensorFlow backend.\n"
     ]
    }
   ],
   "source": [
    "import pandas as pd\n",
    "import random, math\n",
    "\n",
    "import numpy as np\n",
    "\n",
    "from keras.preprocessing.image import load_img, img_to_array\n",
    "from keras.applications.vgg16 import VGG16\n",
    "from keras.models import Sequential, Model\n",
    "from keras.layers import Input, Dense, Dropout, Activation, Flatten\n",
    "from keras.optimizers import SGD\n",
    "from keras.utils import np_utils\n",
    "from keras.preprocessing.image import ImageDataGenerator\n"
   ]
  },
  {
   "cell_type": "code",
   "execution_count": 2,
   "metadata": {},
   "outputs": [],
   "source": [
    "# 分類クラス\n",
    "classes = ['chrysanthemum', 'cosmos', 'ginkgo', 'lotus' , 'margaret', 'rose']\n",
    "nb_classes = len(classes)\n",
    "batch_size = 32\n",
    "nb_epoch = 1\n",
    "current_dir = \"/notebooks\"\n",
    "# image pixel\n",
    "img_rows, img_cols = 224, 224"
   ]
  },
  {
   "cell_type": "code",
   "execution_count": 3,
   "metadata": {},
   "outputs": [],
   "source": [
    "def build_model() :\n",
    "\n",
    "    input_tensor = Input(shape=(img_rows, img_cols, 3))\n",
    "    vgg16 = VGG16(include_top=False, weights='imagenet', input_tensor=input_tensor)\n",
    "    #vgg16.summary()\n",
    "\n",
    "    _model = Sequential()\n",
    "    \n",
    "    _model.add(Flatten(input_shape=vgg16.output_shape[1:]))\n",
    "    _model.add(Dense(256, activation='relu'))\n",
    "    _model.add(Dropout(0.5))\n",
    "    _model.add(Dense(nb_classes, activation='softmax'))\n",
    "\n",
    "    model = Model(inputs=vgg16.input, outputs=_model(vgg16.output))\n",
    "    # modelの14層目までのモデル重み\n",
    "    for layer in model.layers[:15]:\n",
    "        layer.trainable = False\n",
    "\n",
    "    model.compile(loss='categorical_crossentropy',\n",
    "                  optimizer=SGD(lr=1e-4, momentum=0.9), metrics=['accuracy'])\n",
    "    return model"
   ]
  },
  {
   "cell_type": "code",
   "execution_count": 7,
   "metadata": {},
   "outputs": [
    {
     "name": "stdout",
     "output_type": "stream",
     "text": [
      "Found 3000 images belonging to 6 classes.\n",
      "Found 600 images belonging to 6 classes.\n",
      "Epoch 1/1\n",
      "3000/3000 [==============================] - 835s - loss: 0.4338 - acc: 0.8402 - val_loss: 0.3457 - val_acc: 0.8766\n"
     ]
    }
   ],
   "source": [
    "if __name__ == \"__main__\":\n",
    "    print(\"train start\")\n",
    "    train_datagen = ImageDataGenerator(\n",
    "        rescale=1.0 / 255,\n",
    "        shear_range=0.2,\n",
    "        zoom_range=0.2,\n",
    "        horizontal_flip=True)\n",
    "\n",
    "    train_generator = train_datagen.flow_from_directory(\n",
    "        directory=current_dir + '/images',\n",
    "        target_size=(img_rows, img_cols),\n",
    "        color_mode='rgb',\n",
    "        classes=classes,\n",
    "        class_mode='categorical',\n",
    "        batch_size=batch_size,\n",
    "        shuffle=True)\n",
    "\n",
    "    test_datagen = ImageDataGenerator(rescale=1.0 / 255)\n",
    "    \n",
    "    test_generator = test_datagen.flow_from_directory(\n",
    "        directory=current_dir + '/test_images',\n",
    "        target_size=(img_rows, img_cols),\n",
    "        color_mode='rgb',\n",
    "        classes=classes,\n",
    "        class_mode='categorical',\n",
    "        batch_size=batch_size,\n",
    "        shuffle=True)\n",
    "    \n",
    "    model = build_model()    \n",
    "    model.fit_generator(\n",
    "        train_generator,\n",
    "        steps_per_epoch=3000,\n",
    "        epochs=nb_epoch,\n",
    "        validation_data=test_generator,\n",
    "        validation_steps=600\n",
    "    )\n",
    "        \n",
    "    hdf5_file = current_dir + \"/model/flower-model.hdf5\"\n",
    "    model.save_weights(hdf5_file)\n",
    "    \n",
    "    print(\"train finished\")"
   ]
  },
  {
   "cell_type": "code",
   "execution_count": null,
   "metadata": {},
   "outputs": [],
   "source": []
  }
 ],
 "metadata": {
  "kernelspec": {
   "display_name": "Python 3",
   "language": "python",
   "name": "python3"
  },
  "language_info": {
   "codemirror_mode": {
    "name": "ipython",
    "version": 3
   },
   "file_extension": ".py",
   "mimetype": "text/x-python",
   "name": "python",
   "nbconvert_exporter": "python",
   "pygments_lexer": "ipython3",
   "version": "3.5.2"
  }
 },
 "nbformat": 4,
 "nbformat_minor": 2
}
